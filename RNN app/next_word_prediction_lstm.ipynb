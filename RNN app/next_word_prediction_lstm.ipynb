{
 "cells": [
  {
   "cell_type": "code",
   "execution_count": 1,
   "metadata": {
    "id": "Cdy3wy15xEWI"
   },
   "outputs": [],
   "source": [
    "# import necessary libraries\n",
    "import numpy as np\n",
    "import tensorflow as tf"
   ]
  },
  {
   "cell_type": "markdown",
   "metadata": {
    "id": "iW-P5slUySTh"
   },
   "source": [
    "### Training Phase"
   ]
  },
  {
   "cell_type": "code",
   "execution_count": 2,
   "metadata": {
    "id": "vnlsTBS1xJrT"
   },
   "outputs": [],
   "source": [
    "# load dataset\n",
    "with open(\"srilanka.txt\", 'r', encoding='utf-8') as file:\n",
    "    cricket_history = file.read()"
   ]
  },
  {
   "cell_type": "code",
   "execution_count": 3,
   "metadata": {
    "colab": {
     "base_uri": "https://localhost:8080/",
     "height": 87
    },
    "id": "1DFP668ryKx7",
    "outputId": "0bf6b96b-9a47-4780-e60d-50897bc23971"
   },
   "outputs": [
    {
     "data": {
      "text/plain": [
       "'Cricket in Sri Lanka holds a storied history, reflecting a blend of colonial legacy, grassroots development, and global success. As a national passion, cricket transcends boundaries, bringing together men, women, and individuals with special needs under a shared love for the game.\\n\\nEarly Beginnings\\nIntroduced by British colonists in the 19th century, cricket initially thrived in Colombo and other urban areas. Matches between British officials and local clubs marked the early cricketing culture. '"
      ]
     },
     "execution_count": 3,
     "metadata": {},
     "output_type": "execute_result"
    }
   ],
   "source": [
    "cricket_history[:500]"
   ]
  },
  {
   "cell_type": "code",
   "execution_count": 4,
   "metadata": {
    "id": "Pq6Esp5FyNrC"
   },
   "outputs": [],
   "source": [
    "tokenizer = tf.keras.preprocessing.text.Tokenizer()\n",
    "tokenizer.fit_on_texts([cricket_history])"
   ]
  },
  {
   "cell_type": "code",
   "execution_count": 5,
   "metadata": {
    "colab": {
     "base_uri": "https://localhost:8080/",
     "height": 35
    },
    "id": "ycBdRs9Q26y9",
    "outputId": "83e9495b-2923-487a-b65d-e97a7e6797d2"
   },
   "outputs": [
    {
     "data": {
      "text/plain": [
       "'!\"#$%&()*+,-./:;<=>?@[\\\\]^_`{|}~\\t\\n'"
      ]
     },
     "execution_count": 5,
     "metadata": {},
     "output_type": "execute_result"
    }
   ],
   "source": [
    "tokenizer.get_config()['filters']"
   ]
  },
  {
   "cell_type": "code",
   "execution_count": 6,
   "metadata": {
    "colab": {
     "base_uri": "https://localhost:8080/",
     "height": 157
    },
    "id": "xfaHK6oq34te",
    "outputId": "22284e6b-9bf3-4a3c-894c-6d4ab161defe"
   },
   "outputs": [
    {
     "data": {
      "text/plain": [
       "'{\"cricket\": 21, \"in\": 19, \"sri\": 13, \"lanka\": 9, \"holds\": 1, \"a\": 10, \"storied\": 1, \"history\": 1, \"reflecting\": 1, \"blend\": 1, \"of\": 7, \"colonial\": 1, \"legacy\": 3, \"grassroots\": 2, \"development\": 1, \"and\": 15, \"global\": 2, \"success\": 1, \"as\": 4, \"national\": 2, \"passion\": 2, \"transcends\": 1, \"boundaries\": 2, \"bringing\": 1, \"together\": 1, \"men\": 1, \"women\": 1, \"individuals\": 1, \"with\": 5, \"special\": 2, \"needs\": 2, \"under\": 1, \"shared\": 1, \"love\": 1, \"for\": 3, \"the\": 24, \"game\": 2, \"early\": 3, \"beginnings\": 1, \"introduced\": 1, \"by\": 4, \"british\": 2, \"colonists\": 1, \"19th\": 1, \"century\": 2, \"initially\": 2, \"thrived\": 1, \"colombo\": 2, \"other\": 1, \"urban\": 1, \"areas\": 1, \"matches\": 1, \"between\": 1, \"officials\": 1, \"local\": 2, \"clubs\": 2, \"marked\": 2, \"cricketing\": 3, \"culture\": 1, \"club\": 1, \"ccc\": 1, \"established\": 1, \"1832\": 1, \"is\": 3, \"one\": 1, \"oldest\": 1, \"still\": 1, \"active\": 1, \"today\": 1, \"20th\": 1, \"schools\": 1, \"such\": 2, \"royal\": 1, \"college\": 2, \"st\": 1, \"thomas\\'\": 1, \"began\": 1, \"fostering\": 1, \"young\": 1, \"talent\": 1, \"through\": 3, \"annual\": 1, \"encounters\": 1, \"like\": 4, \"battle\": 1, \"blues\": 1, \"evolution\": 1, \"international\": 4, \"recognition\": 1, \"lanka\\'s\": 3, \"prowess\": 1, \"grew\": 1, \"steadily\": 1, \"post\": 1, \"independence\": 1, \"1948\": 1, \"country\": 1, \"gained\": 2, \"test\": 2, \"status\": 1, \"1982\": 1, \"debuting\": 1, \"against\": 1, \"england\": 2, \"while\": 2, \"initial\": 1, \"years\": 1, \"were\": 1, \"challenging\": 1, \"emerged\": 1, \"victorious\": 1, \"1996\": 1, \"icc\": 1, \"world\": 2, \"cup\": 3, \"defeating\": 1, \"australia\": 1, \"final\": 1, \"this\": 1, \"historic\": 1, \"win\": 2, \"dominant\": 1, \"force\": 1, \"women\\'s\": 2, \"team\": 2, \"debuted\": 1, \"internationally\": 1, \"1997\": 1, \"overshadowed\": 1, \"men\\\\u2019s\": 1, \"has\": 3, \"carved\": 1, \"niche\": 1, \"significant\": 1, \"milestones\": 1, \"including\": 1, \"their\": 1, \"first\": 1, \"ever\": 1, \"bilateral\": 1, \"series\": 1, \"2023\": 1, \"victory\": 1, \"women\\\\u2019s\": 1, \"asia\": 1, \"2024\": 1, \"players\": 2, \"chamari\": 1, \"athapaththu\": 1, \"have\": 1, \"become\": 1, \"icons\": 1, \"inspiring\": 1, \"next\": 1, \"generation\": 1, \"female\": 1, \"cricketers\": 1, \"adaptive\": 1, \"blind\": 3, \"commitment\": 1, \"to\": 6, \"inclusivity\": 2, \"exemplified\": 1, \"efforts\": 2, \"association\": 1, \"visually\": 2, \"handicapped\": 1, \"slcavh\": 1, \"which\": 1, \"oversees\": 1, \"competing\": 1, \"tournaments\": 1, \"lanka\\\\u2019s\": 2, \"impaired\": 1, \"teams\": 1, \"represent\": 1, \"resilience\": 2, \"determination\": 1, \"addition\": 1, \"hearing\": 1, \"impairments\": 1, \"intellectual\": 1, \"disabilities\": 1, \"momentum\": 1, \"these\": 2, \"initiatives\": 1, \"reflect\": 1, \"broader\": 1, \"effort\": 1, \"make\": 1, \"accessible\": 1, \"all\": 1, \"breaking\": 1, \"barriers\": 1, \"sport\": 2, \"modern\": 1, \"developments\": 1, \"challenges\": 2, \"slc\": 1, \"governing\": 1, \"body\": 1, \"focused\": 1, \"on\": 1, \"developing\": 1, \"domestic\": 1, \"leagues\": 1, \"premier\": 1, \"league\": 1, \"lpl\": 1, \"however\": 1, \"administrative\": 1, \"controversies\": 1, \"fluctuating\": 1, \"performances\": 1, \"persist\": 1, \"despite\": 1, \"remains\": 1, \"formidable\": 1, \"nation\": 1, \"rich\": 1, \"promising\": 1, \"future\": 1, \"beyond\": 1, \"from\": 1, \"packed\": 1, \"stadiums\": 1, \"grounds\": 1, \"across\": 1, \"island\": 1, \"continues\": 1, \"unite\": 1, \"diverse\": 1, \"communities\": 1, \"embodies\": 1, \"pride\": 1, \"an\": 1, \"enduring\": 1, \"that\": 1, \"shows\": 1, \"no\": 1, \"signs\": 1, \"fading\": 1, \"strengthen\": 1, \"programs\": 1, \"story\": 1, \"poised\": 1, \"even\": 1, \"greater\": 1, \"heights\": 1}'"
      ]
     },
     "execution_count": 6,
     "metadata": {},
     "output_type": "execute_result"
    }
   ],
   "source": [
    "tokenizer.get_config()['word_counts']"
   ]
  },
  {
   "cell_type": "code",
   "execution_count": 7,
   "metadata": {
    "colab": {
     "base_uri": "https://localhost:8080/"
    },
    "id": "Cj3C0xtXyTZf",
    "outputId": "a8a66a3b-e4a4-435d-d769-af92aaf6f6d3"
   },
   "outputs": [
    {
     "data": {
      "text/plain": [
       "{'the': 1,\n",
       " 'cricket': 2,\n",
       " 'in': 3,\n",
       " 'and': 4,\n",
       " 'sri': 5,\n",
       " 'a': 6,\n",
       " 'lanka': 7,\n",
       " 'of': 8,\n",
       " 'to': 9,\n",
       " 'with': 10,\n",
       " 'as': 11,\n",
       " 'by': 12,\n",
       " 'like': 13,\n",
       " 'international': 14,\n",
       " 'legacy': 15,\n",
       " 'for': 16,\n",
       " 'early': 17,\n",
       " 'cricketing': 18,\n",
       " 'is': 19,\n",
       " 'through': 20,\n",
       " \"lanka's\": 21,\n",
       " 'cup': 22,\n",
       " 'has': 23,\n",
       " 'blind': 24,\n",
       " 'grassroots': 25,\n",
       " 'global': 26,\n",
       " 'national': 27,\n",
       " 'passion': 28,\n",
       " 'boundaries': 29,\n",
       " 'special': 30,\n",
       " 'needs': 31,\n",
       " 'game': 32,\n",
       " 'british': 33,\n",
       " 'century': 34,\n",
       " 'initially': 35,\n",
       " 'colombo': 36,\n",
       " 'local': 37,\n",
       " 'clubs': 38,\n",
       " 'marked': 39,\n",
       " 'such': 40,\n",
       " 'college': 41,\n",
       " 'gained': 42,\n",
       " 'test': 43,\n",
       " 'england': 44,\n",
       " 'while': 45,\n",
       " 'world': 46,\n",
       " 'win': 47,\n",
       " \"women's\": 48,\n",
       " 'team': 49,\n",
       " 'players': 50,\n",
       " 'inclusivity': 51,\n",
       " 'efforts': 52,\n",
       " 'visually': 53,\n",
       " 'lanka’s': 54,\n",
       " 'resilience': 55,\n",
       " 'these': 56,\n",
       " 'sport': 57,\n",
       " 'challenges': 58,\n",
       " 'holds': 59,\n",
       " 'storied': 60,\n",
       " 'history': 61,\n",
       " 'reflecting': 62,\n",
       " 'blend': 63,\n",
       " 'colonial': 64,\n",
       " 'development': 65,\n",
       " 'success': 66,\n",
       " 'transcends': 67,\n",
       " 'bringing': 68,\n",
       " 'together': 69,\n",
       " 'men': 70,\n",
       " 'women': 71,\n",
       " 'individuals': 72,\n",
       " 'under': 73,\n",
       " 'shared': 74,\n",
       " 'love': 75,\n",
       " 'beginnings': 76,\n",
       " 'introduced': 77,\n",
       " 'colonists': 78,\n",
       " '19th': 79,\n",
       " 'thrived': 80,\n",
       " 'other': 81,\n",
       " 'urban': 82,\n",
       " 'areas': 83,\n",
       " 'matches': 84,\n",
       " 'between': 85,\n",
       " 'officials': 86,\n",
       " 'culture': 87,\n",
       " 'club': 88,\n",
       " 'ccc': 89,\n",
       " 'established': 90,\n",
       " '1832': 91,\n",
       " 'one': 92,\n",
       " 'oldest': 93,\n",
       " 'still': 94,\n",
       " 'active': 95,\n",
       " 'today': 96,\n",
       " '20th': 97,\n",
       " 'schools': 98,\n",
       " 'royal': 99,\n",
       " 'st': 100,\n",
       " \"thomas'\": 101,\n",
       " 'began': 102,\n",
       " 'fostering': 103,\n",
       " 'young': 104,\n",
       " 'talent': 105,\n",
       " 'annual': 106,\n",
       " 'encounters': 107,\n",
       " 'battle': 108,\n",
       " 'blues': 109,\n",
       " 'evolution': 110,\n",
       " 'recognition': 111,\n",
       " 'prowess': 112,\n",
       " 'grew': 113,\n",
       " 'steadily': 114,\n",
       " 'post': 115,\n",
       " 'independence': 116,\n",
       " '1948': 117,\n",
       " 'country': 118,\n",
       " 'status': 119,\n",
       " '1982': 120,\n",
       " 'debuting': 121,\n",
       " 'against': 122,\n",
       " 'initial': 123,\n",
       " 'years': 124,\n",
       " 'were': 125,\n",
       " 'challenging': 126,\n",
       " 'emerged': 127,\n",
       " 'victorious': 128,\n",
       " '1996': 129,\n",
       " 'icc': 130,\n",
       " 'defeating': 131,\n",
       " 'australia': 132,\n",
       " 'final': 133,\n",
       " 'this': 134,\n",
       " 'historic': 135,\n",
       " 'dominant': 136,\n",
       " 'force': 137,\n",
       " 'debuted': 138,\n",
       " 'internationally': 139,\n",
       " '1997': 140,\n",
       " 'overshadowed': 141,\n",
       " 'men’s': 142,\n",
       " 'carved': 143,\n",
       " 'niche': 144,\n",
       " 'significant': 145,\n",
       " 'milestones': 146,\n",
       " 'including': 147,\n",
       " 'their': 148,\n",
       " 'first': 149,\n",
       " 'ever': 150,\n",
       " 'bilateral': 151,\n",
       " 'series': 152,\n",
       " '2023': 153,\n",
       " 'victory': 154,\n",
       " 'women’s': 155,\n",
       " 'asia': 156,\n",
       " '2024': 157,\n",
       " 'chamari': 158,\n",
       " 'athapaththu': 159,\n",
       " 'have': 160,\n",
       " 'become': 161,\n",
       " 'icons': 162,\n",
       " 'inspiring': 163,\n",
       " 'next': 164,\n",
       " 'generation': 165,\n",
       " 'female': 166,\n",
       " 'cricketers': 167,\n",
       " 'adaptive': 168,\n",
       " 'commitment': 169,\n",
       " 'exemplified': 170,\n",
       " 'association': 171,\n",
       " 'handicapped': 172,\n",
       " 'slcavh': 173,\n",
       " 'which': 174,\n",
       " 'oversees': 175,\n",
       " 'competing': 176,\n",
       " 'tournaments': 177,\n",
       " 'impaired': 178,\n",
       " 'teams': 179,\n",
       " 'represent': 180,\n",
       " 'determination': 181,\n",
       " 'addition': 182,\n",
       " 'hearing': 183,\n",
       " 'impairments': 184,\n",
       " 'intellectual': 185,\n",
       " 'disabilities': 186,\n",
       " 'momentum': 187,\n",
       " 'initiatives': 188,\n",
       " 'reflect': 189,\n",
       " 'broader': 190,\n",
       " 'effort': 191,\n",
       " 'make': 192,\n",
       " 'accessible': 193,\n",
       " 'all': 194,\n",
       " 'breaking': 195,\n",
       " 'barriers': 196,\n",
       " 'modern': 197,\n",
       " 'developments': 198,\n",
       " 'slc': 199,\n",
       " 'governing': 200,\n",
       " 'body': 201,\n",
       " 'focused': 202,\n",
       " 'on': 203,\n",
       " 'developing': 204,\n",
       " 'domestic': 205,\n",
       " 'leagues': 206,\n",
       " 'premier': 207,\n",
       " 'league': 208,\n",
       " 'lpl': 209,\n",
       " 'however': 210,\n",
       " 'administrative': 211,\n",
       " 'controversies': 212,\n",
       " 'fluctuating': 213,\n",
       " 'performances': 214,\n",
       " 'persist': 215,\n",
       " 'despite': 216,\n",
       " 'remains': 217,\n",
       " 'formidable': 218,\n",
       " 'nation': 219,\n",
       " 'rich': 220,\n",
       " 'promising': 221,\n",
       " 'future': 222,\n",
       " 'beyond': 223,\n",
       " 'from': 224,\n",
       " 'packed': 225,\n",
       " 'stadiums': 226,\n",
       " 'grounds': 227,\n",
       " 'across': 228,\n",
       " 'island': 229,\n",
       " 'continues': 230,\n",
       " 'unite': 231,\n",
       " 'diverse': 232,\n",
       " 'communities': 233,\n",
       " 'embodies': 234,\n",
       " 'pride': 235,\n",
       " 'an': 236,\n",
       " 'enduring': 237,\n",
       " 'that': 238,\n",
       " 'shows': 239,\n",
       " 'no': 240,\n",
       " 'signs': 241,\n",
       " 'fading': 242,\n",
       " 'strengthen': 243,\n",
       " 'programs': 244,\n",
       " 'story': 245,\n",
       " 'poised': 246,\n",
       " 'even': 247,\n",
       " 'greater': 248,\n",
       " 'heights': 249}"
      ]
     },
     "execution_count": 7,
     "metadata": {},
     "output_type": "execute_result"
    }
   ],
   "source": [
    "tokenizer.word_index"
   ]
  },
  {
   "cell_type": "code",
   "execution_count": 8,
   "metadata": {
    "id": "9fz15oF9yVsP"
   },
   "outputs": [],
   "source": [
    "input_sequences = []\n",
    "for sentence in cricket_history.split('\\n'):\n",
    "    token_list = tokenizer.texts_to_sequences([sentence])[0]\n",
    "    for i in range(1, len(token_list)):\n",
    "        sequence = token_list[:i+1]\n",
    "        input_sequences.append(sequence)"
   ]
  },
  {
   "cell_type": "code",
   "execution_count": 9,
   "metadata": {
    "colab": {
     "base_uri": "https://localhost:8080/"
    },
    "id": "BWjnCxp0L_lE",
    "outputId": "a6b942b9-244b-4977-cbac-d13233eb7a0a"
   },
   "outputs": [
    {
     "data": {
      "text/plain": [
       "[[2, 3], [2, 3, 5], [2, 3, 5, 7], [2, 3, 5, 7, 59], [2, 3, 5, 7, 59, 6]]"
      ]
     },
     "execution_count": 9,
     "metadata": {},
     "output_type": "execute_result"
    }
   ],
   "source": [
    "input_sequences[:5]"
   ]
  },
  {
   "cell_type": "code",
   "execution_count": 10,
   "metadata": {
    "colab": {
     "base_uri": "https://localhost:8080/"
    },
    "id": "9wRraxCOM-9k",
    "outputId": "8bcddf46-55ac-46b8-c95a-28409ad383e0"
   },
   "outputs": [
    {
     "data": {
      "text/plain": [
       "73"
      ]
     },
     "execution_count": 10,
     "metadata": {},
     "output_type": "execute_result"
    }
   ],
   "source": [
    "max_length = max([len(input_sequence) for input_sequence in input_sequences])\n",
    "max_length"
   ]
  },
  {
   "cell_type": "code",
   "execution_count": 11,
   "metadata": {
    "id": "b2-49gwjyflF"
   },
   "outputs": [],
   "source": [
    "# add padding\n",
    "input_sequences = np.array(tf.keras.preprocessing.sequence.pad_sequences(input_sequences, maxlen=max_length, padding='pre'))"
   ]
  },
  {
   "cell_type": "code",
   "execution_count": 12,
   "metadata": {
    "colab": {
     "base_uri": "https://localhost:8080/"
    },
    "id": "PPOPhp61NhAz",
    "outputId": "9644053f-ca31-4c3f-90ac-b5a9bd430c20"
   },
   "outputs": [
    {
     "data": {
      "text/plain": [
       "array([0, 0, 0, 0, 0, 0, 0, 0, 0, 0, 0, 0, 0, 0, 0, 0, 0, 0, 0, 0, 0, 0,\n",
       "       0, 0, 0, 0, 0, 0, 0, 0, 0, 0, 0, 0, 0, 0, 0, 0, 0, 0, 0, 0, 0, 0,\n",
       "       0, 0, 0, 0, 0, 0, 0, 0, 0, 0, 0, 0, 0, 0, 0, 0, 0, 0, 0, 0, 0, 0,\n",
       "       0, 0, 0, 0, 2, 3, 5])"
      ]
     },
     "execution_count": 12,
     "metadata": {},
     "output_type": "execute_result"
    }
   ],
   "source": [
    "input_sequences[1]"
   ]
  },
  {
   "cell_type": "code",
   "execution_count": 13,
   "metadata": {
    "id": "5Hyniqzgylho"
   },
   "outputs": [],
   "source": [
    "# divide dataset into feature set (X) and labels (y)\n",
    "X = input_sequences[:, :-1]\n",
    "y = input_sequences[:, -1]"
   ]
  },
  {
   "cell_type": "code",
   "execution_count": 14,
   "metadata": {
    "colab": {
     "base_uri": "https://localhost:8080/"
    },
    "id": "H2KTRiMpyoGU",
    "outputId": "7e149567-f32f-4139-eff0-fad21f7aab58"
   },
   "outputs": [
    {
     "data": {
      "text/plain": [
       "array([0, 0, 0, 0, 0, 0, 0, 0, 0, 0, 0, 0, 0, 0, 0, 0, 0, 0, 0, 0, 0, 0,\n",
       "       0, 0, 0, 0, 0, 0, 0, 0, 0, 0, 0, 0, 0, 0, 0, 0, 0, 0, 0, 0, 0, 0,\n",
       "       0, 0, 0, 0, 0, 0, 0, 0, 0, 0, 0, 0, 0, 0, 0, 0, 0, 0, 0, 0, 0, 0,\n",
       "       0, 0, 0, 0, 0, 2])"
      ]
     },
     "execution_count": 14,
     "metadata": {},
     "output_type": "execute_result"
    }
   ],
   "source": [
    "X[0]"
   ]
  },
  {
   "cell_type": "code",
   "execution_count": 15,
   "metadata": {
    "colab": {
     "base_uri": "https://localhost:8080/"
    },
    "id": "N_x_JJaZypyZ",
    "outputId": "25ceb680-fff0-4915-e39e-d5a84aa55b0f"
   },
   "outputs": [
    {
     "data": {
      "text/plain": [
       "array([  3,   5,   7,  59,   6,  60,  61,  62,   6,  63,   8,  64,  15,\n",
       "        25,  65,   4,  26,  66,  11,   6,  27,  28,   2,  67,  29,  68,\n",
       "        69,  70,  71,   4,  72,  10,  30,  31,  73,   6,  74,  75,  16,\n",
       "         1,  32,  76,  12,  33,  78,   3,   1,  79,  34,   2,  35,  80,\n",
       "         3,  36,   4,  81,  82,  83,  84,  85,  33,  86,   4,  37,  38,\n",
       "        39,   1,  17,  18,  87,   1,  36,   2,  88,  89,  90,   3,  91,\n",
       "        19,  92,   8,   1,  93,  38,  94,  95,  96,  12,   1,  17,  97,\n",
       "        34,  98,  40,  11,  99,  41,   4, 100, 101,  41, 102, 103, 104,\n",
       "       105,  20, 106, 107,  13,   1, 108,   8,   1, 109,   4,  14, 111,\n",
       "        21,  18, 112, 113, 114, 115, 116,   3, 117,   1, 118,  42,  43,\n",
       "       119,   3, 120, 121, 122,  44,  45, 123, 124,   3,  43,   2, 125,\n",
       "       126,   5,   7, 127, 128,   3,   1, 129, 130,   2,  46,  22, 131,\n",
       "       132,   3,   1, 133, 134, 135,  47,  39,   5,   7,  11,   6, 136,\n",
       "       137,   3,  14,   2,   2,   3,   5,   7,   5,   7,  48,   2,  49,\n",
       "       138, 139,   3, 140,  45,  35, 141,  12,   1, 142,  32,   1,  49,\n",
       "        23, 143,   6, 144,  10, 145, 146, 147, 148, 149, 150, 151, 152,\n",
       "        47,   3,  44,   3, 153,   4, 154,   3,   1, 155, 156,  22,   3,\n",
       "       157,  50,  13, 158, 159, 160, 161,  26, 162, 163,   1, 164, 165,\n",
       "         8, 166, 167,   2,  24,   4,  30,  31,   2,  21, 169,   9,  51,\n",
       "        19, 170,  12,   1,  52,   8,   1,   5,   7,   2, 171,   8,   1,\n",
       "        53, 172, 173, 174, 175,  24,   2, 176,   3,  14, 177,  13,   1,\n",
       "        24,   2,  46,  22,   5,  54,  53, 178, 179, 180,  55,   4, 181,\n",
       "       182,   2,  16,  50,  10, 183, 184,   4, 185, 186,  23,  42, 187,\n",
       "        56, 188, 189,   6, 190, 191,   9, 192,   2, 193,   9, 194, 195,\n",
       "       196,  20,  57, 198,   4,  58,   7,   2, 199,   1, 200, 201,  23,\n",
       "       202, 203, 204,   2,  20, 205, 206,  13,   1,   7, 207, 208, 209,\n",
       "       210,  58,  40,  11, 211, 212,   4, 213, 214,   3,  14,   2, 215,\n",
       "       216,  56,   5,   7, 217,   6, 218,  18, 219,  10,   6, 220,  15,\n",
       "         4, 221, 222,  15, 223,  29, 225, 226,   9,  37, 227, 228,   1,\n",
       "       229,   2, 230,   9, 231,   5,  54, 232, 233,   1,  57, 234,  27,\n",
       "       235,  55,   4, 236, 237,  28, 238, 239, 240, 241,   8, 242,  10,\n",
       "        52,   9, 243,  25, 244,   4,  51,   5,  21,   2, 245,  19, 246,\n",
       "        16, 247, 248, 249])"
      ]
     },
     "execution_count": 15,
     "metadata": {},
     "output_type": "execute_result"
    }
   ],
   "source": [
    "y"
   ]
  },
  {
   "cell_type": "code",
   "execution_count": 16,
   "metadata": {
    "id": "Aj_A7RNPOgD6"
   },
   "outputs": [],
   "source": [
    "# number of words\n",
    "num_classes = len(tokenizer.word_index)+1"
   ]
  },
  {
   "cell_type": "code",
   "execution_count": 17,
   "metadata": {
    "id": "6_eFedJNyrwo"
   },
   "outputs": [],
   "source": [
    "# one-hot encoding labels\n",
    "y = np.array(tf.keras.utils.to_categorical(y, num_classes=num_classes))"
   ]
  },
  {
   "cell_type": "code",
   "execution_count": 18,
   "metadata": {
    "colab": {
     "base_uri": "https://localhost:8080/"
    },
    "id": "uiBwVPLjyugy",
    "outputId": "b9b25867-106d-4691-b71f-318840b527a3"
   },
   "outputs": [
    {
     "data": {
      "text/plain": [
       "array([0., 0., 0., 0., 0., 1., 0., 0., 0., 0., 0., 0., 0., 0., 0., 0., 0.,\n",
       "       0., 0., 0., 0., 0., 0., 0., 0., 0., 0., 0., 0., 0., 0., 0., 0., 0.,\n",
       "       0., 0., 0., 0., 0., 0., 0., 0., 0., 0., 0., 0., 0., 0., 0., 0., 0.,\n",
       "       0., 0., 0., 0., 0., 0., 0., 0., 0., 0., 0., 0., 0., 0., 0., 0., 0.,\n",
       "       0., 0., 0., 0., 0., 0., 0., 0., 0., 0., 0., 0., 0., 0., 0., 0., 0.,\n",
       "       0., 0., 0., 0., 0., 0., 0., 0., 0., 0., 0., 0., 0., 0., 0., 0., 0.,\n",
       "       0., 0., 0., 0., 0., 0., 0., 0., 0., 0., 0., 0., 0., 0., 0., 0., 0.,\n",
       "       0., 0., 0., 0., 0., 0., 0., 0., 0., 0., 0., 0., 0., 0., 0., 0., 0.,\n",
       "       0., 0., 0., 0., 0., 0., 0., 0., 0., 0., 0., 0., 0., 0., 0., 0., 0.,\n",
       "       0., 0., 0., 0., 0., 0., 0., 0., 0., 0., 0., 0., 0., 0., 0., 0., 0.,\n",
       "       0., 0., 0., 0., 0., 0., 0., 0., 0., 0., 0., 0., 0., 0., 0., 0., 0.,\n",
       "       0., 0., 0., 0., 0., 0., 0., 0., 0., 0., 0., 0., 0., 0., 0., 0., 0.,\n",
       "       0., 0., 0., 0., 0., 0., 0., 0., 0., 0., 0., 0., 0., 0., 0., 0., 0.,\n",
       "       0., 0., 0., 0., 0., 0., 0., 0., 0., 0., 0., 0., 0., 0., 0., 0., 0.,\n",
       "       0., 0., 0., 0., 0., 0., 0., 0., 0., 0., 0., 0.], dtype=float32)"
      ]
     },
     "execution_count": 18,
     "metadata": {},
     "output_type": "execute_result"
    }
   ],
   "source": [
    "y[1]"
   ]
  },
  {
   "cell_type": "code",
   "execution_count": 19,
   "metadata": {
    "id": "PE4P5PCNyxHx"
   },
   "outputs": [],
   "source": [
    "# model building\n",
    "model = tf.keras.models.Sequential()\n",
    "model.add(tf.keras.layers.Embedding(num_classes, 80, input_length=max_length-1))\n",
    "model.add(tf.keras.layers.LSTM(100))\n",
    "model.add(tf.keras.layers.Dense(num_classes, activation='softmax'))"
   ]
  },
  {
   "cell_type": "code",
   "execution_count": 20,
   "metadata": {
    "colab": {
     "base_uri": "https://localhost:8080/"
    },
    "id": "P83BqEAnQK0Q",
    "outputId": "46cacc1b-66d9-4a88-b8b8-f672eeb837a6"
   },
   "outputs": [
    {
     "name": "stdout",
     "output_type": "stream",
     "text": [
      "Model: \"sequential\"\n",
      "_________________________________________________________________\n",
      " Layer (type)                Output Shape              Param #   \n",
      "=================================================================\n",
      " embedding (Embedding)       (None, 72, 80)            20000     \n",
      "                                                                 \n",
      " lstm (LSTM)                 (None, 100)               72400     \n",
      "                                                                 \n",
      " dense (Dense)               (None, 250)               25250     \n",
      "                                                                 \n",
      "=================================================================\n",
      "Total params: 117650 (459.57 KB)\n",
      "Trainable params: 117650 (459.57 KB)\n",
      "Non-trainable params: 0 (0.00 Byte)\n",
      "_________________________________________________________________\n"
     ]
    }
   ],
   "source": [
    "model.summary()"
   ]
  },
  {
   "cell_type": "code",
   "execution_count": 22,
   "metadata": {
    "id": "JOWD_hPGy0Ky"
   },
   "outputs": [],
   "source": [
    "# compile the model\n",
    "model.compile(loss='categorical_crossentropy',\n",
    "              optimizer='adam',\n",
    "              metrics=['accuracy'])"
   ]
  },
  {
   "cell_type": "code",
   "execution_count": 23,
   "metadata": {
    "colab": {
     "base_uri": "https://localhost:8080/"
    },
    "id": "4HYPZ2KmQ-iv",
    "outputId": "18d875b1-06cb-4aad-bbee-0ea9fb618739"
   },
   "outputs": [
    {
     "name": "stdout",
     "output_type": "stream",
     "text": [
      "Epoch 1/100\n",
      "14/14 [==============================] - 4s 68ms/step - loss: 5.5141 - accuracy: 0.0310\n",
      "Epoch 2/100\n",
      "14/14 [==============================] - 1s 64ms/step - loss: 5.3242 - accuracy: 0.0524\n",
      "Epoch 3/100\n",
      "14/14 [==============================] - 1s 54ms/step - loss: 5.1548 - accuracy: 0.0548\n",
      "Epoch 4/100\n",
      "14/14 [==============================] - 1s 60ms/step - loss: 5.1031 - accuracy: 0.0548\n",
      "Epoch 5/100\n",
      "14/14 [==============================] - 1s 58ms/step - loss: 5.0798 - accuracy: 0.0548\n",
      "Epoch 6/100\n",
      "14/14 [==============================] - 1s 59ms/step - loss: 5.0626 - accuracy: 0.0476\n",
      "Epoch 7/100\n",
      "14/14 [==============================] - 1s 51ms/step - loss: 5.0546 - accuracy: 0.0571\n",
      "Epoch 8/100\n",
      "14/14 [==============================] - 1s 59ms/step - loss: 5.0369 - accuracy: 0.0571\n",
      "Epoch 9/100\n",
      "14/14 [==============================] - 1s 59ms/step - loss: 5.0215 - accuracy: 0.0905\n",
      "Epoch 10/100\n",
      "14/14 [==============================] - 1s 52ms/step - loss: 4.9907 - accuracy: 0.0571\n",
      "Epoch 11/100\n",
      "14/14 [==============================] - 1s 51ms/step - loss: 4.9526 - accuracy: 0.0690\n",
      "Epoch 12/100\n",
      "14/14 [==============================] - 1s 55ms/step - loss: 4.9126 - accuracy: 0.0738\n",
      "Epoch 13/100\n",
      "14/14 [==============================] - 1s 54ms/step - loss: 4.8478 - accuracy: 0.0881\n",
      "Epoch 14/100\n",
      "14/14 [==============================] - 1s 58ms/step - loss: 4.7575 - accuracy: 0.1000\n",
      "Epoch 15/100\n",
      "14/14 [==============================] - 1s 53ms/step - loss: 4.6545 - accuracy: 0.1071\n",
      "Epoch 16/100\n",
      "14/14 [==============================] - 1s 56ms/step - loss: 4.5454 - accuracy: 0.1024\n",
      "Epoch 17/100\n",
      "14/14 [==============================] - 1s 51ms/step - loss: 4.4262 - accuracy: 0.1190\n",
      "Epoch 18/100\n",
      "14/14 [==============================] - 1s 62ms/step - loss: 4.2995 - accuracy: 0.1333\n",
      "Epoch 19/100\n",
      "14/14 [==============================] - 1s 52ms/step - loss: 4.1803 - accuracy: 0.1333\n",
      "Epoch 20/100\n",
      "14/14 [==============================] - 1s 53ms/step - loss: 4.0360 - accuracy: 0.1667\n",
      "Epoch 21/100\n",
      "14/14 [==============================] - 1s 55ms/step - loss: 3.9130 - accuracy: 0.1762\n",
      "Epoch 22/100\n",
      "14/14 [==============================] - 1s 61ms/step - loss: 3.7778 - accuracy: 0.1857\n",
      "Epoch 23/100\n",
      "14/14 [==============================] - 1s 56ms/step - loss: 3.6470 - accuracy: 0.1952\n",
      "Epoch 24/100\n",
      "14/14 [==============================] - 1s 55ms/step - loss: 3.5162 - accuracy: 0.2024\n",
      "Epoch 25/100\n",
      "14/14 [==============================] - 1s 52ms/step - loss: 3.3911 - accuracy: 0.2167\n",
      "Epoch 26/100\n",
      "14/14 [==============================] - 1s 53ms/step - loss: 3.2572 - accuracy: 0.2381\n",
      "Epoch 27/100\n",
      "14/14 [==============================] - 1s 56ms/step - loss: 3.1235 - accuracy: 0.2500\n",
      "Epoch 28/100\n",
      "14/14 [==============================] - 1s 56ms/step - loss: 3.0098 - accuracy: 0.2762\n",
      "Epoch 29/100\n",
      "14/14 [==============================] - 1s 55ms/step - loss: 2.9068 - accuracy: 0.3000\n",
      "Epoch 30/100\n",
      "14/14 [==============================] - 1s 55ms/step - loss: 2.7981 - accuracy: 0.3238\n",
      "Epoch 31/100\n",
      "14/14 [==============================] - 1s 59ms/step - loss: 2.6799 - accuracy: 0.3333\n",
      "Epoch 32/100\n",
      "14/14 [==============================] - 1s 52ms/step - loss: 2.5605 - accuracy: 0.3786\n",
      "Epoch 33/100\n",
      "14/14 [==============================] - 1s 55ms/step - loss: 2.4612 - accuracy: 0.4190\n",
      "Epoch 34/100\n",
      "14/14 [==============================] - 1s 53ms/step - loss: 2.3697 - accuracy: 0.4143\n",
      "Epoch 35/100\n",
      "14/14 [==============================] - 1s 61ms/step - loss: 2.2728 - accuracy: 0.4690\n",
      "Epoch 36/100\n",
      "14/14 [==============================] - 1s 55ms/step - loss: 2.1822 - accuracy: 0.4952\n",
      "Epoch 37/100\n",
      "14/14 [==============================] - 1s 54ms/step - loss: 2.0968 - accuracy: 0.5262\n",
      "Epoch 38/100\n",
      "14/14 [==============================] - 1s 59ms/step - loss: 2.0199 - accuracy: 0.5381\n",
      "Epoch 39/100\n",
      "14/14 [==============================] - 1s 66ms/step - loss: 1.9397 - accuracy: 0.5929\n",
      "Epoch 40/100\n",
      "14/14 [==============================] - 1s 62ms/step - loss: 1.8756 - accuracy: 0.6024\n",
      "Epoch 41/100\n",
      "14/14 [==============================] - 1s 61ms/step - loss: 1.8073 - accuracy: 0.6238\n",
      "Epoch 42/100\n",
      "14/14 [==============================] - 1s 52ms/step - loss: 1.7330 - accuracy: 0.6452\n",
      "Epoch 43/100\n",
      "14/14 [==============================] - 1s 66ms/step - loss: 1.6607 - accuracy: 0.6905\n",
      "Epoch 44/100\n",
      "14/14 [==============================] - 1s 59ms/step - loss: 1.6007 - accuracy: 0.7238\n",
      "Epoch 45/100\n",
      "14/14 [==============================] - 1s 62ms/step - loss: 1.5352 - accuracy: 0.7524\n",
      "Epoch 46/100\n",
      "14/14 [==============================] - 1s 64ms/step - loss: 1.4795 - accuracy: 0.8071\n",
      "Epoch 47/100\n",
      "14/14 [==============================] - 1s 67ms/step - loss: 1.4245 - accuracy: 0.8238\n",
      "Epoch 48/100\n",
      "14/14 [==============================] - 1s 55ms/step - loss: 1.3713 - accuracy: 0.8333\n",
      "Epoch 49/100\n",
      "14/14 [==============================] - 1s 58ms/step - loss: 1.3318 - accuracy: 0.8571\n",
      "Epoch 50/100\n",
      "14/14 [==============================] - 1s 59ms/step - loss: 1.2807 - accuracy: 0.8667\n",
      "Epoch 51/100\n",
      "14/14 [==============================] - 1s 68ms/step - loss: 1.2356 - accuracy: 0.8643\n",
      "Epoch 52/100\n",
      "14/14 [==============================] - 1s 65ms/step - loss: 1.2006 - accuracy: 0.8762\n",
      "Epoch 53/100\n",
      "14/14 [==============================] - 1s 62ms/step - loss: 1.1468 - accuracy: 0.9048\n",
      "Epoch 54/100\n",
      "14/14 [==============================] - 1s 55ms/step - loss: 1.1080 - accuracy: 0.9190\n",
      "Epoch 55/100\n",
      "14/14 [==============================] - 1s 59ms/step - loss: 1.0656 - accuracy: 0.9190\n",
      "Epoch 56/100\n",
      "14/14 [==============================] - 1s 67ms/step - loss: 1.0312 - accuracy: 0.9119\n",
      "Epoch 57/100\n",
      "14/14 [==============================] - 1s 64ms/step - loss: 0.9992 - accuracy: 0.9238\n",
      "Epoch 58/100\n",
      "14/14 [==============================] - 1s 58ms/step - loss: 0.9693 - accuracy: 0.9238\n",
      "Epoch 59/100\n",
      "14/14 [==============================] - 1s 66ms/step - loss: 0.9323 - accuracy: 0.9286\n",
      "Epoch 60/100\n",
      "14/14 [==============================] - 1s 56ms/step - loss: 0.8989 - accuracy: 0.9429\n",
      "Epoch 61/100\n",
      "14/14 [==============================] - 1s 58ms/step - loss: 0.8673 - accuracy: 0.9524\n",
      "Epoch 62/100\n",
      "14/14 [==============================] - 1s 59ms/step - loss: 0.8375 - accuracy: 0.9476\n",
      "Epoch 63/100\n",
      "14/14 [==============================] - 1s 69ms/step - loss: 0.8053 - accuracy: 0.9595\n",
      "Epoch 64/100\n",
      "14/14 [==============================] - 1s 62ms/step - loss: 0.7793 - accuracy: 0.9619\n",
      "Epoch 65/100\n",
      "14/14 [==============================] - 1s 55ms/step - loss: 0.7590 - accuracy: 0.9667\n",
      "Epoch 66/100\n",
      "14/14 [==============================] - 1s 58ms/step - loss: 0.7322 - accuracy: 0.9595\n",
      "Epoch 67/100\n",
      "14/14 [==============================] - 1s 65ms/step - loss: 0.7059 - accuracy: 0.9667\n",
      "Epoch 68/100\n",
      "14/14 [==============================] - 1s 54ms/step - loss: 0.6871 - accuracy: 0.9738\n",
      "Epoch 69/100\n",
      "14/14 [==============================] - 1s 63ms/step - loss: 0.6706 - accuracy: 0.9667\n",
      "Epoch 70/100\n",
      "14/14 [==============================] - 1s 60ms/step - loss: 0.6394 - accuracy: 0.9690\n",
      "Epoch 71/100\n",
      "14/14 [==============================] - 1s 65ms/step - loss: 0.6176 - accuracy: 0.9762\n",
      "Epoch 72/100\n",
      "14/14 [==============================] - 1s 57ms/step - loss: 0.5973 - accuracy: 0.9714\n",
      "Epoch 73/100\n",
      "14/14 [==============================] - 1s 61ms/step - loss: 0.5776 - accuracy: 0.9690\n",
      "Epoch 74/100\n",
      "14/14 [==============================] - 1s 57ms/step - loss: 0.5640 - accuracy: 0.9667\n",
      "Epoch 75/100\n",
      "14/14 [==============================] - 1s 70ms/step - loss: 0.5430 - accuracy: 0.9738\n",
      "Epoch 76/100\n",
      "14/14 [==============================] - 1s 60ms/step - loss: 0.5264 - accuracy: 0.9786\n",
      "Epoch 77/100\n",
      "14/14 [==============================] - 1s 55ms/step - loss: 0.5063 - accuracy: 0.9833\n",
      "Epoch 78/100\n",
      "14/14 [==============================] - 1s 54ms/step - loss: 0.4913 - accuracy: 0.9857\n",
      "Epoch 79/100\n",
      "14/14 [==============================] - 1s 64ms/step - loss: 0.4800 - accuracy: 0.9810\n",
      "Epoch 80/100\n",
      "14/14 [==============================] - 1s 59ms/step - loss: 0.4645 - accuracy: 0.9810\n",
      "Epoch 81/100\n",
      "14/14 [==============================] - 1s 65ms/step - loss: 0.4475 - accuracy: 0.9810\n",
      "Epoch 82/100\n",
      "14/14 [==============================] - 1s 58ms/step - loss: 0.4303 - accuracy: 0.9905\n",
      "Epoch 83/100\n",
      "14/14 [==============================] - 1s 63ms/step - loss: 0.4204 - accuracy: 0.9857\n",
      "Epoch 84/100\n",
      "14/14 [==============================] - 1s 57ms/step - loss: 0.4133 - accuracy: 0.9810\n",
      "Epoch 85/100\n",
      "14/14 [==============================] - 1s 59ms/step - loss: 0.3984 - accuracy: 0.9881\n",
      "Epoch 86/100\n",
      "14/14 [==============================] - 1s 59ms/step - loss: 0.3872 - accuracy: 0.9881\n",
      "Epoch 87/100\n",
      "14/14 [==============================] - 1s 71ms/step - loss: 0.3737 - accuracy: 0.9929\n",
      "Epoch 88/100\n",
      "14/14 [==============================] - 1s 60ms/step - loss: 0.3654 - accuracy: 0.9905\n",
      "Epoch 89/100\n",
      "14/14 [==============================] - 1s 55ms/step - loss: 0.3567 - accuracy: 0.9905\n",
      "Epoch 90/100\n",
      "14/14 [==============================] - 1s 66ms/step - loss: 0.3416 - accuracy: 0.9905\n",
      "Epoch 91/100\n",
      "14/14 [==============================] - 1s 65ms/step - loss: 0.3313 - accuracy: 0.9905\n",
      "Epoch 92/100\n",
      "14/14 [==============================] - 1s 57ms/step - loss: 0.3225 - accuracy: 0.9881\n",
      "Epoch 93/100\n",
      "14/14 [==============================] - 1s 70ms/step - loss: 0.3148 - accuracy: 0.9905\n",
      "Epoch 94/100\n",
      "14/14 [==============================] - 1s 58ms/step - loss: 0.3050 - accuracy: 0.9857\n",
      "Epoch 95/100\n",
      "14/14 [==============================] - 1s 64ms/step - loss: 0.2965 - accuracy: 0.9929\n",
      "Epoch 96/100\n",
      "14/14 [==============================] - 1s 57ms/step - loss: 0.2936 - accuracy: 0.9905\n",
      "Epoch 97/100\n",
      "14/14 [==============================] - 1s 59ms/step - loss: 0.2872 - accuracy: 0.9929\n",
      "Epoch 98/100\n",
      "14/14 [==============================] - 1s 57ms/step - loss: 0.2769 - accuracy: 0.9929\n",
      "Epoch 99/100\n",
      "14/14 [==============================] - 1s 72ms/step - loss: 0.2672 - accuracy: 0.9929\n",
      "Epoch 100/100\n",
      "14/14 [==============================] - 1s 70ms/step - loss: 0.2595 - accuracy: 0.9929\n"
     ]
    }
   ],
   "source": [
    "# model training\n",
    "history = model.fit(X, y, epochs=100)"
   ]
  },
  {
   "cell_type": "markdown",
   "metadata": {
    "id": "WDBGLYWmyJH8"
   },
   "source": [
    "### Prediction Phase"
   ]
  },
  {
   "cell_type": "code",
   "execution_count": 26,
   "metadata": {
    "colab": {
     "base_uri": "https://localhost:8080/"
    },
    "id": "UEtrlTICy23n",
    "outputId": "4f101461-3ee2-4560-9edd-e0310f1f29d7"
   },
   "outputs": [
    {
     "name": "stdout",
     "output_type": "stream",
     "text": [
      "1/1 [==============================] - 0s 36ms/step\n",
      "1/1 [==============================] - 0s 113ms/step\n",
      "1/1 [==============================] - 0s 18ms/step\n",
      "1/1 [==============================] - 0s 33ms/step\n",
      "1/1 [==============================] - 0s 35ms/step\n",
      "1/1 [==============================] - 0s 33ms/step\n",
      "1/1 [==============================] - 0s 30ms/step\n",
      "1/1 [==============================] - 0s 45ms/step\n",
      "1/1 [==============================] - 0s 52ms/step\n",
      "1/1 [==============================] - 0s 41ms/step\n",
      "1/1 [==============================] - 0s 46ms/step\n",
      "1/1 [==============================] - 0s 33ms/step\n",
      "1/1 [==============================] - 0s 33ms/step\n",
      "1/1 [==============================] - 0s 35ms/step\n",
      "1/1 [==============================] - 0s 24ms/step\n",
      "1/1 [==============================] - 0s 24ms/step\n",
      "1/1 [==============================] - 0s 39ms/step\n",
      "1/1 [==============================] - 0s 35ms/step\n",
      "1/1 [==============================] - 0s 32ms/step\n",
      "1/1 [==============================] - 0s 30ms/step\n",
      "1/1 [==============================] - 0s 32ms/step\n",
      "1/1 [==============================] - 0s 34ms/step\n",
      "1/1 [==============================] - 0s 29ms/step\n",
      "1/1 [==============================] - 0s 41ms/step\n",
      "1/1 [==============================] - 0s 40ms/step\n",
      "1/1 [==============================] - 0s 38ms/step\n",
      "1/1 [==============================] - 0s 38ms/step\n",
      "1/1 [==============================] - 0s 26ms/step\n",
      "1/1 [==============================] - 0s 42ms/step\n",
      "1/1 [==============================] - 0s 29ms/step\n",
      "1/1 [==============================] - 0s 34ms/step\n",
      "1/1 [==============================] - 0s 19ms/step\n",
      "1/1 [==============================] - 0s 17ms/step\n",
      "1/1 [==============================] - 0s 17ms/step\n",
      "1/1 [==============================] - 0s 25ms/step\n",
      "1/1 [==============================] - 0s 27ms/step\n",
      "1/1 [==============================] - 0s 21ms/step\n",
      "1/1 [==============================] - 0s 33ms/step\n",
      "1/1 [==============================] - 0s 24ms/step\n",
      "1/1 [==============================] - 0s 11ms/step\n",
      "1/1 [==============================] - 0s 27ms/step\n",
      "1/1 [==============================] - 0s 22ms/step\n",
      "1/1 [==============================] - 0s 33ms/step\n",
      "1/1 [==============================] - 0s 25ms/step\n",
      "1/1 [==============================] - 0s 16ms/step\n",
      "1/1 [==============================] - 0s 31ms/step\n",
      "1/1 [==============================] - 0s 34ms/step\n",
      "1/1 [==============================] - 0s 34ms/step\n",
      "1/1 [==============================] - 0s 22ms/step\n",
      "1/1 [==============================] - 0s 31ms/step\n",
      "1/1 [==============================] - 0s 24ms/step\n",
      "1/1 [==============================] - 0s 33ms/step\n",
      "1/1 [==============================] - 0s 26ms/step\n",
      "1/1 [==============================] - 0s 24ms/step\n",
      "1/1 [==============================] - 0s 37ms/step\n",
      "1/1 [==============================] - 0s 24ms/step\n",
      "1/1 [==============================] - 0s 27ms/step\n",
      "1/1 [==============================] - 0s 23ms/step\n",
      "1/1 [==============================] - 0s 23ms/step\n",
      "1/1 [==============================] - 0s 22ms/step\n",
      "1/1 [==============================] - 0s 28ms/step\n",
      "1/1 [==============================] - 0s 13ms/step\n",
      "1/1 [==============================] - 0s 28ms/step\n",
      "1/1 [==============================] - 0s 21ms/step\n",
      "1/1 [==============================] - 0s 16ms/step\n",
      "1/1 [==============================] - 0s 21ms/step\n",
      "1/1 [==============================] - 0s 24ms/step\n",
      "1/1 [==============================] - 0s 26ms/step\n",
      "1/1 [==============================] - 0s 30ms/step\n",
      "1/1 [==============================] - 0s 12ms/step\n",
      "1/1 [==============================] - 0s 26ms/step\n",
      "1/1 [==============================] - 0s 27ms/step\n",
      "1/1 [==============================] - 0s 17ms/step\n",
      "1/1 [==============================] - 0s 33ms/step\n",
      "1/1 [==============================] - 0s 25ms/step\n",
      "1/1 [==============================] - 0s 21ms/step\n",
      "1/1 [==============================] - 0s 27ms/step\n",
      "1/1 [==============================] - 0s 27ms/step\n",
      "1/1 [==============================] - 0s 21ms/step\n",
      "1/1 [==============================] - 0s 26ms/step\n",
      "1/1 [==============================] - 0s 15ms/step\n",
      "1/1 [==============================] - 0s 14ms/step\n",
      "1/1 [==============================] - 0s 13ms/step\n",
      "1/1 [==============================] - 0s 12ms/step\n",
      "1/1 [==============================] - 0s 26ms/step\n",
      "1/1 [==============================] - 0s 27ms/step\n",
      "1/1 [==============================] - 0s 21ms/step\n",
      "1/1 [==============================] - 0s 21ms/step\n",
      "1/1 [==============================] - 0s 16ms/step\n",
      "1/1 [==============================] - 0s 27ms/step\n",
      "1/1 [==============================] - 0s 22ms/step\n",
      "1/1 [==============================] - 0s 22ms/step\n",
      "1/1 [==============================] - 0s 21ms/step\n",
      "1/1 [==============================] - 0s 19ms/step\n",
      "1/1 [==============================] - 0s 27ms/step\n",
      "1/1 [==============================] - 0s 15ms/step\n",
      "1/1 [==============================] - 0s 28ms/step\n",
      "1/1 [==============================] - 0s 26ms/step\n",
      "1/1 [==============================] - 0s 19ms/step\n",
      "1/1 [==============================] - 0s 19ms/step\n",
      "cricket begin in sri lanka holds a storied history reflecting a blend of colonial legacy grassroots development and global success as a national passion cricket transcends boundaries bringing together men women and individuals with special needs under a shared love for the game the game the team cricket club ccc established in 1832 is one of the oldest clubs still active today by the early 20th century schools such as royal college and st thomas' college began fostering young talent through annual encounters like the battle of the blues blues blues of the blues as of the blues of the final win\n"
     ]
    }
   ],
   "source": [
    "input_text = \"cricket begin\"\n",
    "for i in range(100):\n",
    "    token_list = tokenizer.texts_to_sequences([input_text])[0]\n",
    "    token_list = tf.keras.preprocessing.sequence.pad_sequences([token_list], maxlen=max_length-1, padding='pre')\n",
    "    predicted = np.argmax(model.predict(token_list), axis=-1)\n",
    "    output_word = \"\"\n",
    "    for word, index in tokenizer.word_index.items():\n",
    "        if index == predicted:\n",
    "            output_word = word\n",
    "            break\n",
    "    input_text += \" \" + output_word\n",
    "\n",
    "print(input_text)"
   ]
  }
 ],
 "metadata": {
  "colab": {
   "provenance": []
  },
  "kernelspec": {
   "display_name": "Python 3",
   "name": "python3"
  },
  "language_info": {
   "codemirror_mode": {
    "name": "ipython",
    "version": 3
   },
   "file_extension": ".py",
   "mimetype": "text/x-python",
   "name": "python",
   "nbconvert_exporter": "python",
   "pygments_lexer": "ipython3",
   "version": "3.8.3"
  }
 },
 "nbformat": 4,
 "nbformat_minor": 0
}
